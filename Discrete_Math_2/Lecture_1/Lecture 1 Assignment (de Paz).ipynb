{
 "cells": [
  {
   "cell_type": "markdown",
   "id": "584f557f-0cc3-4522-a9f4-c78aa4f6eb07",
   "metadata": {},
   "source": [
    "# Discrete Math 2: Lecture 1 Assignment\n",
    "\n",
    "##### by Jade Shaira M. de Paz\n",
    "##### BS Computer Science - 1  \n"
   ]
  },
  {
   "cell_type": "markdown",
   "id": "5152c6eb-04dd-4b94-b179-cd1a2212de3b",
   "metadata": {},
   "source": [
    "## Question 1:\n",
    "Recall the definition of a rational number, denoted as $\\mathbb{Q}$. Prove that the Euler's number $e = \\Sigma_{k=0}^\\infty \\frac{1}{k!} \\notin \\mathbb{Q}$. A factorial is defined as $k! = (k)(k-1)(k-2)(k-3)..., \\forall k \\in \\mathbb{Z}^+$, note that $0! = 1$. Furthermore, a sum notation $\\Sigma_{k=0}^\\infty k = 0+ 1 + 2 + 3 +....+...$"
   ]
  },
  {
   "cell_type": "markdown",
   "id": "84de3928-51db-4a71-a4ff-7c4ae9ddeb48",
   "metadata": {},
   "source": [
    "#### Solution:\n",
    "\n",
    "Use proof by **Contradiction** to show that Euler's number $e = \\sum_{k=0}^\\infty \\frac{1}{k!}$ is not a rational number."
   ]
  },
  {
   "cell_type": "markdown",
   "id": "74956582-da34-49a5-a155-a0d6fa12da19",
   "metadata": {},
   "source": [
    "#### Proof:\n",
    "\n",
    "*ANSWER:*\n",
    "\n",
    "Step 1: Assume, for the sake of contradiction, that $e$ is rational. This means that $e$ can be expressed as a fraction $\\frac{p}{q}$ where $p$ and $q$ are integers with no common factors other than 1, and $q \\neq 0$.\n",
    "\n",
    "Step 2: Recall the definition of $e$ as the sum of the infinite series:\n",
    "\n",
    "\n",
    "$ e = \\Sigma_{k=0}^\\infty \\frac{1}{k!}$\n",
    "​\n",
    " \n",
    "Step 3: Consider the partial sums of the series. Let $S_n$ denote the $n$th partial sum:\n",
    "\n",
    "$S_n = \\Sigma_{k=0}^\\infty \\frac{1}{k!}$\n",
    "\n",
    "Step 4: Recognize that $e$ is defined as the limit of these partial sums as $n$ approaches infinity:\n",
    "\n",
    "$e = \\lim_{n \\to \\infty} S_n$\n",
    " \n",
    "Step 5: Since $e$ is rational, $S_n$ must also approach a rational limit as $n$ goes to infinity.\n",
    "\n",
    "Step 6: Notice that each term in the series $\\frac{1}{k!}$ is positive. Therefore, each partial sum $S_n$ is increasing.\n",
    "\n",
    "Step 7: Consider the factorial terms $k!$. For any $k \\geq 1$, we have $k! > k$, which implies $\\frac{1}{k!} < \\frac{1}{k}$.\n",
    "\n",
    "Step 8: Recognize that the series $\\sum_{k=0}^\\infty \\frac{1}{k}$ diverges (known as the harmonic series).\n",
    "\n",
    "Step 9: Since $\\frac{1}{k!} < \\frac{1}{k}$, we can conclude that the series $\\sum_{k=0}^\\infty \\frac{1}{k!}$ converges.\n",
    "\n",
    "Step 10: If $S_n$ converges to a rational number, it must be bounded.\n",
    "\n",
    "Step 11: But the convergence of $\\sum_{k=0}^\\infty \\frac{1}{k!}$ contradicts the unboundedness of the harmonic series.\n",
    "\n",
    "$\\textbf{Conclusion}$: Since assuming $e$ is rational leads to a contradiction, we conclude that $e$ is not rational, i.e., $e \\notin \\mathbb{Q}$.  "
   ]
  },
  {
   "cell_type": "markdown",
   "id": "51cef1e4-818a-4725-aefa-a3d9d55071fc",
   "metadata": {},
   "source": [
    "## Question 2:\n",
    "Prove Minkowski's Inequality for sums, $\\forall \\ p>1, (a_k, b_k)>0$:\n",
    "\\begin{gather}\n",
    "\\begin{bmatrix}\n",
    "\\Sigma_{k=1}^n |a_k + b_k|^p\n",
    "\\end{bmatrix}^\\frac{1}{p}\n",
    "\\leq\n",
    "\\begin{bmatrix}\n",
    "\\Sigma_{k=1}^n |a_k|^p\n",
    "\\end{bmatrix}^\\frac{1}{p}\n",
    "+\n",
    "\\begin{bmatrix}\n",
    "\\Sigma_{k=1}^n |b_k|^p\n",
    "\\end{bmatrix}^\\frac{1}{p}\n",
    "\\end{gather}"
   ]
  },
  {
   "cell_type": "markdown",
   "id": "4fe0634f-8f0c-40e9-a262-735b464c65cf",
   "metadata": {},
   "source": [
    "#### Solution:\n",
    "\n",
    "Prove Minkowski's Inequality for sums by **Contradiction**. \n",
    "\n",
    "Assume that Minkowski's Inequality does not hold, i.e., there exist positive real numbers $a_k$ and $b_k$ and $p > 1$ such that:\n",
    "\n",
    "\\begin{equation}\n",
    "\\left( \\sum_{k=1}^n |a_k + b_k|^p \\right)^{\\frac{1}{p}} > \\left( \\sum_{k=1}^n |a_k|^p \\right)^{\\frac{1}{p}} + \\left( \\sum_{k=1}^n |b_k|^p \\right)^{\\frac{1}{p}}\n",
    "\\end{equation}\n",
    "\n",
    "Denote $A = \\left( \\sum_{k=1}^n |a_k|^p \\right)^{\\frac{1}{p}}$ and $B = \\left( \\sum_{k=1}^n |b_k|^p \\right)^{\\frac{1}{p}}$. \n",
    "\n",
    "We have:\n",
    "\n",
    "\\begin{equation}\n",
    "\\left( \\sum_{k=1}^n |a_k + b_k|^p \\right)^{\\frac{1}{p}} > A + B\n",
    "\\end{equation}\n",
    "\n",
    "Square both sides of the inequality:\n",
    "\n",
    "\\begin{equation}\n",
    "\\sum_{k=1}^n |a_k + b_k|^p > (A + B)^p\n",
    "\\end{equation}\n",
    "\n",
    "Expanding the right side using the binomial theorem:\n",
    "\n",
    "\\begin{equation}\n",
    "\\sum_{k=1}^n |a_k + b_k|^p > \\sum_{k=0}^p \\binom{p}{k} A^kB^{p-k}\n",
    "\\end{equation}\n",
    "\n",
    "Since $p > 1$, there exists some $0 < \\lambda < 1$ such that $\\binom{p}{k} < p$ for all $k = 1, 2, \\ldots, p-1$. Therefore:\n",
    "\n",
    "\\begin{equation}\n",
    "\\sum_{k=1}^n |a_k + b_k|^p > A^p + pA^{p-1}B + \\ldots + pAB^{p-1} + B^p\n",
    "\\end{equation}\n",
    "\n",
    "Each term in the right-hand side is greater than or equal to the corresponding term in the left-hand side, because each $|a_k + b_k|^p$ is positive. \n",
    "\n",
    "This contradicts the original assumption that Minkowski's Inequality does not hold. \n",
    "\n",
    "Hence, Minkowski's Inequality for sums holds ***true***.\n"
   ]
  },
  {
   "cell_type": "markdown",
   "id": "b8fd00ee-e248-4fcb-ad35-29a28c64be69",
   "metadata": {},
   "source": [
    "## Question 3:\n",
    "Prove the triangle inequality $|x+y| \\leq |x| + |y|, \\forall (x,y) \\in \\mathbb{R}$"
   ]
  },
  {
   "cell_type": "markdown",
   "id": "6dee6385-c6e7-4eee-8624-239b39d78cff",
   "metadata": {},
   "source": [
    "#### Solution:\n",
    "\n",
    "Prove the triangle inequality $|x+y| \\leq |x| + |y|$, for all real numbers $x$ and $y$.\n",
    "\n",
    "#### Proof:\n",
    "\n",
    "**Case 1:**  $x + y \\geq 0$\n",
    "\n",
    "\n",
    "$$|x + y| = x + y$$\n",
    "\n",
    "by definition of absolute value:\n",
    "\n",
    "$$|x| + |y| = x + y$$\n",
    "\n",
    "Since $x + y \\geq 0$, we have $|x + y| = x + y \\leq |x| + |y|$.\n",
    "\n",
    "**Case 2:**  $x + y < 0$\n",
    "\n",
    "$$|x + y| = -(x + y) = -x - y$$\n",
    "\n",
    "by definition of absolute value:\n",
    "\n",
    "$$|x| + |y| = -x + (-y)$$\n",
    "\n",
    "Since $x + y < 0$, we have $|x + y| = -x - y \\leq -x + (-y) = |x| + |y|$.\n",
    "\n",
    "Therefore, regardless of the sign of $x + y$, we have $|x + y| \\leq |x| + |y|$.\n",
    "\n",
    "This completes the proof of the triangle inequality. "
   ]
  },
  {
   "cell_type": "markdown",
   "id": "88004ba3-5796-44b9-8fcd-5d948b8f2fd6",
   "metadata": {},
   "source": [
    "## Question 4:\n",
    "Prove Sedrakayan's Lemma $\\forall u_i, v_i \\in \\mathbb{R}^+$:\n",
    "\\begin{gather}\n",
    "\\frac{(\\Sigma_{i=1}^n u_i)^2}{\\Sigma_{i=1}^n v_i}\n",
    "\\leq\n",
    "\\Sigma_{i=1}^n \\frac{(u_i)^2}{v_i}\n",
    "\\end{gather}\n"
   ]
  },
  {
   "cell_type": "markdown",
   "id": "c8f23eb7-b94e-4ab0-b765-4b0c5d75974c",
   "metadata": {},
   "source": [
    "1. Consider the functions $f(x) = 2x+1$, $g(x)=2y-1$, $j(x) = |f(x)+g(x)|$, and $h(x) = j(x)^2$, show for the following        inequality that:\n",
    "\n",
    "\\begin{gather}\n",
    "\\sqrt{|f(x)|^2} \\geq \\sqrt{h(x)} - \\sqrt{|g(x)|^2}, \\forall (x,y) \\in \\mathbb{Z}^+\n",
    "\\end{gather}\n",
    "\n",
    "2. Prove Sedrakayan's Lemma if $u_i, v_i$ are square roots of an even integers:\n",
    "\\begin{gather}\n",
    "\\frac{(\\Sigma_{i=1}^n u_i)^2}{\\Sigma_{i=1}^n v_i}\n",
    "\\leq\n",
    "\\Sigma_{i=1}^n \\frac{(u_i)^2}{v_i}\n",
    "\\end{gather}"
   ]
  },
  {
   "cell_type": "markdown",
   "id": "632f018e-19d8-4715-80f2-65a5f8b56555",
   "metadata": {},
   "source": [
    "#### Solution:\n",
    "To prove Sedrakayan’s Lemma directly, we need to demonstrate that for all $(u_i, v_i \\in \\mathbb{R}^+)$, the inequality\n",
    "\n",
    "$$\\left(\\frac{\\sum_{i=1}^n u_i}{\\sum_{i=1}^n v_i}\\right)^2 \\leq \\frac{\\sum_{i=1}^n (u_i)^2}{v_i}$$\n",
    "\n",
    "holds true. \n",
    "\n",
    "The ***Cauchy-Schwarz Inequality*** states that for any real numbers $(a_i)$ and $(b_i)$, \n",
    "\n",
    "$$\\left(\\sum_{i=1}^n a_i b_i\\right)^2 \\leq \\left(\\sum_{i=1}^n (a_i)^2\\right) \\left(\\sum_{i=1}^n (b_i)^2\\right)$$\n",
    "\n",
    "Let $a_i = \\sqrt{u_i}$ and $b_i = \\frac{1}{\\sqrt{v_i}}$. Then, the Cauchy-Schwarz Inequality becomes\n",
    "\n",
    "$$\\left(\\sum_{i=1}^n \\sqrt{u_i} \\cdot \\frac{1}{\\sqrt{v_i}}\\right)^2 \\leq \\left(\\sum_{i=1}^n u_i\\right) \\left(\\sum_{i=1}^n \\frac{1}{v_i}\\right)$$\n",
    "\n",
    "#### Simplify:\n",
    "\n",
    "The *left-hand side* simplifies to \n",
    "\n",
    "$$\\left(\\frac{\\sum_{i=1}^n u_i}{\\sum_{i=1}^n v_i}\\right)^2$$\n",
    "\n",
    "The *right-hand side* simplifies to \n",
    "\n",
    "$$\\frac{\\sum_{i=1}^n (u_i)^2}{v_i}$$\n",
    "\n",
    "Therefore, since the left-hand side is less than or equal to the right-hand side, we have proven Sedrakayan’s Lemma.\n"
   ]
  },
  {
   "cell_type": "code",
   "execution_count": null,
   "id": "8ced76f1-f61f-4c73-b418-e68ec527356a",
   "metadata": {},
   "outputs": [],
   "source": []
  }
 ],
 "metadata": {
  "kernelspec": {
   "display_name": "Python 3 (ipykernel)",
   "language": "python",
   "name": "python3"
  },
  "language_info": {
   "codemirror_mode": {
    "name": "ipython",
    "version": 3
   },
   "file_extension": ".py",
   "mimetype": "text/x-python",
   "name": "python",
   "nbconvert_exporter": "python",
   "pygments_lexer": "ipython3",
   "version": "3.12.3"
  }
 },
 "nbformat": 4,
 "nbformat_minor": 5
}
